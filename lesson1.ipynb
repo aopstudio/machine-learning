{
 "cells": [
  {
   "cell_type": "markdown",
   "metadata": {},
   "source": [
    "更新一次模型需要的数据量称为**批量大小**，通常远远少于样本个数\n",
    "\n",
    "step取矩阵方法：start:end:step\n",
    "\n",
    "广播机制需要矩阵的一个维度的大小是1，那么会复制这个维度\n",
    "\n",
    "Y=Y+X会重新分配内存，Y[:]=Y+X不会重新分配内存，称为原地操作，Y+=X也可以原地操作"
   ]
  },
  {
   "cell_type": "markdown",
   "metadata": {},
   "source": [
    "len()是元素个数\n",
    "\n",
    "B.clone()和B=A+0效果一样\n",
    "\n",
    "hadama积，矩阵中每个元素各自相乘，用*\n",
    "\n",
    "维度相加？"
   ]
  },
  {
   "cell_type": "code",
   "execution_count": null,
   "metadata": {},
   "outputs": [],
   "source": []
  }
 ],
 "metadata": {
  "language_info": {
   "name": "python"
  },
  "orig_nbformat": 4
 },
 "nbformat": 4,
 "nbformat_minor": 2
}
