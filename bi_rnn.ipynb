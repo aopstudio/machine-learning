{
 "cells": [
  {
   "cell_type": "code",
   "execution_count": null,
   "metadata": {},
   "outputs": [],
   "source": [
    "import torch\n",
    "from torch import nn\n",
    "from d2l import torch as d2l\n",
    "\n",
    "batch_size, num_steps = 32,35\n",
    "train_iter, vocab = d2l.load_data_time_machine(batch_size,num_steps)\n",
    "num_hiddens = 256\n",
    "num_epochs,lr = 500,1\n",
    "vocab_size = len(vocab)\n",
    "num_layers = 2\n",
    "device = d2l.try_gpu()\n",
    "num_inputs = vocab_size\n",
    "lstm_layer = nn.LSTM(num_inputs,num_hiddens,num_layers,bidirectional=True)\n",
    "model = d2l.RNNModel(lstm_layer, len(vocab))\n",
    "model = model.to(device)\n",
    "d2l.train_ch8(model,train_iter,vocab,lr,num_epochs,device)\n",
    "\n"
   ]
  }
 ],
 "metadata": {
  "language_info": {
   "name": "python"
  },
  "orig_nbformat": 4
 },
 "nbformat": 4,
 "nbformat_minor": 2
}
