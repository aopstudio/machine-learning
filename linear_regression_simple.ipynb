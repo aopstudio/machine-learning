{
 "cells": [
  {
   "cell_type": "code",
   "execution_count": 1,
   "metadata": {},
   "outputs": [],
   "source": [
    "import numpy as np\n",
    "import torch\n",
    "from torch.utils import data\n",
    "from d2l import torch as d2l\n",
    "\n",
    "true_w = torch.tensor([2,-3.4])\n",
    "true_b = 4.2\n",
    "features, labels = d2l.synthetic_data(true_w, true_b, 1000)"
   ]
  },
  {
   "cell_type": "code",
   "execution_count": 2,
   "metadata": {},
   "outputs": [
    {
     "data": {
      "text/plain": [
       "[tensor([[ 0.9419,  0.0605],\n",
       "         [-0.3504,  0.3927],\n",
       "         [ 0.1238, -3.2722],\n",
       "         [ 0.6316, -1.2203],\n",
       "         [-1.3648, -0.4837],\n",
       "         [ 0.6530,  0.4725],\n",
       "         [ 1.6070,  0.4892],\n",
       "         [ 0.3881, -0.7962],\n",
       "         [-1.1277,  2.0047],\n",
       "         [-0.2762,  0.5986]]),\n",
       " tensor([[ 5.8902],\n",
       "         [ 2.1775],\n",
       "         [15.5624],\n",
       "         [ 9.6024],\n",
       "         [ 3.1113],\n",
       "         [ 3.9059],\n",
       "         [ 5.7670],\n",
       "         [ 7.6969],\n",
       "         [-4.8699],\n",
       "         [ 1.6129]])]"
      ]
     },
     "execution_count": 2,
     "metadata": {},
     "output_type": "execute_result"
    }
   ],
   "source": [
    "def load_array(data_arrays, batch_size, is_train=True):\n",
    "    # 构造一个PyTorch数据迭代器\n",
    "    dataset = data.TensorDataset(*data_arrays)\n",
    "    return data.DataLoader(dataset,batch_size,shuffle=is_train)\n",
    "\n",
    "batch_size = 10\n",
    "data_iter = load_array((features, labels),batch_size)\n",
    "\n",
    "next(iter(data_iter))"
   ]
  },
  {
   "cell_type": "code",
   "execution_count": 3,
   "metadata": {},
   "outputs": [],
   "source": [
    "from torch import nn\n",
    "# list of layers\n",
    "net = nn.Sequential(nn.Linear(2,1))"
   ]
  },
  {
   "cell_type": "code",
   "execution_count": 4,
   "metadata": {},
   "outputs": [
    {
     "data": {
      "text/plain": [
       "tensor([0.])"
      ]
     },
     "execution_count": 4,
     "metadata": {},
     "output_type": "execute_result"
    }
   ],
   "source": [
    "net[0].weight.data.normal_(0,0.01)\n",
    "net[0].bias.data.fill_(0)"
   ]
  },
  {
   "cell_type": "code",
   "execution_count": 5,
   "metadata": {},
   "outputs": [],
   "source": [
    "# 均方误差现成函数\n",
    "loss = nn.MSELoss()\n",
    "# sgd现成函数\n",
    "trainer = torch.optim.SGD(net.parameters(),lr=0.03)"
   ]
  },
  {
   "cell_type": "code",
   "execution_count": 7,
   "metadata": {},
   "outputs": [
    {
     "name": "stdout",
     "output_type": "stream",
     "text": [
      "features tensor([[-0.5517,  0.0881],\n",
      "        [ 1.0052,  0.2537],\n",
      "        [-0.9180, -0.2609],\n",
      "        ...,\n",
      "        [ 1.1154, -2.2788],\n",
      "        [ 0.3167,  0.9621],\n",
      "        [-2.4007,  2.5312]])\n",
      "epoch 1, loss 0.000108\n",
      "features tensor([[-0.5517,  0.0881],\n",
      "        [ 1.0052,  0.2537],\n",
      "        [-0.9180, -0.2609],\n",
      "        ...,\n",
      "        [ 1.1154, -2.2788],\n",
      "        [ 0.3167,  0.9621],\n",
      "        [-2.4007,  2.5312]])\n",
      "epoch 2, loss 0.000107\n",
      "features tensor([[-0.5517,  0.0881],\n",
      "        [ 1.0052,  0.2537],\n",
      "        [-0.9180, -0.2609],\n",
      "        ...,\n",
      "        [ 1.1154, -2.2788],\n",
      "        [ 0.3167,  0.9621],\n",
      "        [-2.4007,  2.5312]])\n",
      "epoch 3, loss 0.000107\n"
     ]
    }
   ],
   "source": [
    "num_epochs = 3\n",
    "for epoch in range(num_epochs):\n",
    "    # 小批量进行训练\n",
    "    for X, y in data_iter:\n",
    "        l = loss(net(X),y)\n",
    "        trainer.zero_grad()\n",
    "        l.backward()\n",
    "        trainer.step()\n",
    "    # 全部样本用来测试\n",
    "    l = loss(net(features), labels)\n",
    "    print(f'epoch {epoch + 1}, loss {l:f}')"
   ]
  }
 ],
 "metadata": {
  "kernelspec": {
   "display_name": "Python 3.9.7 ('base')",
   "language": "python",
   "name": "python3"
  },
  "language_info": {
   "codemirror_mode": {
    "name": "ipython",
    "version": 3
   },
   "file_extension": ".py",
   "mimetype": "text/x-python",
   "name": "python",
   "nbconvert_exporter": "python",
   "pygments_lexer": "ipython3",
   "version": "3.9.7"
  },
  "orig_nbformat": 4,
  "vscode": {
   "interpreter": {
    "hash": "ad2bdc8ecc057115af97d19610ffacc2b4e99fae6737bb82f5d7fb13d2f2c186"
   }
  }
 },
 "nbformat": 4,
 "nbformat_minor": 2
}
